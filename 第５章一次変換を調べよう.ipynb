{
 "cells": [
  {
   "cell_type": "markdown",
   "metadata": {},
   "source": [
    "## p. 142"
   ]
  },
  {
   "cell_type": "markdown",
   "metadata": {},
   "source": [
    "(1)"
   ]
  },
  {
   "cell_type": "code",
   "execution_count": 3,
   "metadata": {},
   "outputs": [],
   "source": [
    "import numpy as np\n",
    "import matplotlib.pyplot as plt"
   ]
  },
  {
   "cell_type": "code",
   "execution_count": 45,
   "metadata": {},
   "outputs": [
    {
     "name": "stdout",
     "output_type": "stream",
     "text": [
      "3\n"
     ]
    }
   ],
   "source": [
    "dot_list = [[0,0],[0,1],[0,2],\n",
    "            [1,0],[1,1],[1,2],\n",
    "            [2,0],[2,1],[2,2]]\n",
    "\n",
    "a = np.array([[3,1],\n",
    "                [-1,3]])\n",
    "type(np.dot(a,dot_list[1]))\n",
    "print(np.dot(a,dot_list[1]).tolist()[1])"
   ]
  },
  {
   "cell_type": "code",
   "execution_count": 46,
   "metadata": {},
   "outputs": [
    {
     "name": "stdout",
     "output_type": "stream",
     "text": [
      "[0 0]\n",
      "[1 3]\n",
      "[2 6]\n",
      "[ 3 -1]\n",
      "[4 2]\n",
      "[5 5]\n",
      "[ 6 -2]\n",
      "[7 1]\n",
      "[8 4]\n"
     ]
    },
    {
     "data": {
      "image/png": "[encoded data removed]",
      "text/plain": [
       "<Figure size 432x288 with 1 Axes>"
      ]
     },
     "metadata": {
      "needs_background": "light"
     },
     "output_type": "display_data"
    }
   ],
   "source": [
    "a = np.array([[3,1],\n",
    "               [-1,3]])\n",
    "for dot in dot_list:\n",
    "    print(np.dot(a,dot))\n",
    "    plt.plot(np.dot(a,dot).tolist()[0],np.dot(a,dot).tolist()[1],\"o\")\n",
    "plt.show()\n"
   ]
  },
  {
   "cell_type": "code",
   "execution_count": 47,
   "metadata": {},
   "outputs": [
    {
     "name": "stdout",
     "output_type": "stream",
     "text": [
      "[0 0]\n",
      "[3 1]\n",
      "[6 2]\n",
      "[6 2]\n",
      "[9 3]\n",
      "[12  4]\n",
      "[12  4]\n",
      "[15  5]\n",
      "[18  6]\n"
     ]
    },
    {
     "data": {
      "image/png": "[encoded data removed]",
      "text/plain": [
       "<Figure size 432x288 with 1 Axes>"
      ]
     },
     "metadata": {
      "needs_background": "light"
     },
     "output_type": "display_data"
    }
   ],
   "source": [
    "a = np.array([[6,3],\n",
    "               [2,1]])\n",
    "for dot in dot_list:\n",
    "    print(np.dot(a,dot))\n",
    "    plt.plot(np.dot(a,dot).tolist()[0],np.dot(a,dot).tolist()[1],\"o\")\n",
    "plt.show()"
   ]
  },
  {
   "cell_type": "code",
   "execution_count": 48,
   "metadata": {},
   "outputs": [
    {
     "name": "stdout",
     "output_type": "stream",
     "text": [
      "[0 0]\n",
      "[-1  1]\n",
      "[-2  2]\n",
      "[ 1 -1]\n",
      "[0 0]\n",
      "[-1  1]\n",
      "[ 2 -2]\n",
      "[ 1 -1]\n",
      "[0 0]\n"
     ]
    },
    {
     "data": {
      "image/png": "[encoded data removed]",
      "text/plain": [
       "<Figure size 432x288 with 1 Axes>"
      ]
     },
     "metadata": {
      "needs_background": "light"
     },
     "output_type": "display_data"
    }
   ],
   "source": [
    "a = np.array([[1,-1],\n",
    "               [-1,1]])\n",
    "for dot in dot_list:\n",
    "    print(np.dot(a,dot))\n",
    "    plt.plot(np.dot(a,dot).tolist()[0],np.dot(a,dot).tolist()[1],\"o\")\n",
    "plt.show()"
   ]
  },
  {
   "cell_type": "code",
   "execution_count": null,
   "metadata": {},
   "outputs": [],
   "source": []
  }
 ],
 "metadata": {
  "kernelspec": {
   "display_name": "Python 3",
   "language": "python",
   "name": "python3"
  },
  "language_info": {
   "codemirror_mode": {
    "name": "ipython",
    "version": 3
   },
   "file_extension": ".py",
   "mimetype": "text/x-python",
   "name": "python",
   "nbconvert_exporter": "python",
   "pygments_lexer": "ipython3",
   "version": "3.6.3"
  }
 },
 "nbformat": 4,
 "nbformat_minor": 2
}

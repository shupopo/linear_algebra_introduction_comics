{
 "cells": [
  {
   "cell_type": "markdown",
   "metadata": {},
   "source": [
    "## p. 230"
   ]
  },
  {
   "cell_type": "markdown",
   "metadata": {},
   "source": [
    "(1)"
   ]
  },
  {
   "cell_type": "code",
   "execution_count": 1,
   "metadata": {},
   "outputs": [],
   "source": [
    "import numpy as np"
   ]
  },
  {
   "cell_type": "code",
   "execution_count": 5,
   "metadata": {},
   "outputs": [
    {
     "data": {
      "text/plain": [
       "array([[ 0.40740741,  0.07407407, -0.14814815],\n",
       "       [-0.11111111, -0.11111111,  0.22222222],\n",
       "       [-0.14814815,  0.51851852, -0.03703704]])"
      ]
     },
     "execution_count": 5,
     "metadata": {},
     "output_type": "execute_result"
    }
   ],
   "source": [
    "A = np.array([[3,2,0],\n",
    "              [1,1,2],\n",
    "              [2,6,1]])\n",
    "detA = np.linalg.det(A)\n",
    "detA\n",
    "A_inv = np.linalg.inv(A)\n",
    "A_inv"
   ]
  },
  {
   "cell_type": "code",
   "execution_count": 6,
   "metadata": {},
   "outputs": [
    {
     "data": {
      "text/plain": [
       "0.0"
      ]
     },
     "execution_count": 6,
     "metadata": {},
     "output_type": "execute_result"
    }
   ],
   "source": [
    "A = np.array([[3,-1,-1],\n",
    "              [-6,2,2],\n",
    "              [-3,1,1]])\n",
    "detA = np.linalg.det(A)\n",
    "detA"
   ]
  },
  {
   "cell_type": "code",
   "execution_count": 9,
   "metadata": {},
   "outputs": [
    {
     "data": {
      "text/plain": [
       "array([[ 1.80143985e+15,  1.80143985e+15, -1.80143985e+15],\n",
       "       [-1.57625987e+15, -1.57625987e+15,  1.57625987e+15],\n",
       "       [ 1.12589991e+15,  1.12589991e+15, -1.12589991e+15]])"
      ]
     },
     "execution_count": 9,
     "metadata": {},
     "output_type": "execute_result"
    }
   ],
   "source": [
    "A = np.array([[-1,1,3],\n",
    "              [3,2,-2],\n",
    "              [2,3,1]])\n",
    "detA = np.linalg.det(A)\n",
    "detA\n",
    "np.linalg.inv(A)"
   ]
  },
  {
   "cell_type": "code",
   "execution_count": 11,
   "metadata": {},
   "outputs": [
    {
     "data": {
      "text/plain": [
       "array([[ 0.75,  0.25,  0.25],\n",
       "       [-0.75,  0.75, -0.25],\n",
       "       [-0.25,  0.25,  0.25]])"
      ]
     },
     "execution_count": 11,
     "metadata": {},
     "output_type": "execute_result"
    }
   ],
   "source": [
    "A = np.array([[1,0,-1],\n",
    "              [1,1,0],\n",
    "              [0,-1,3]])\n",
    "detA = np.linalg.det(A)\n",
    "detA\n",
    "np.linalg.inv(A)"
   ]
  },
  {
   "cell_type": "code",
   "execution_count": null,
   "metadata": {},
   "outputs": [],
   "source": []
  }
 ],
 "metadata": {
  "kernelspec": {
   "display_name": "Python 3",
   "language": "python",
   "name": "python3"
  },
  "language_info": {
   "codemirror_mode": {
    "name": "ipython",
    "version": 3
   },
   "file_extension": ".py",
   "mimetype": "text/x-python",
   "name": "python",
   "nbconvert_exporter": "python",
   "pygments_lexer": "ipython3",
   "version": "3.6.3"
  }
 },
 "nbformat": 4,
 "nbformat_minor": 2
}
